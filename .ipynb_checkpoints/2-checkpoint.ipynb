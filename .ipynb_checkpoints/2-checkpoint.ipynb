{
 "cells": [
  {
   "cell_type": "code",
   "execution_count": 43,
   "id": "372185b6",
   "metadata": {},
   "outputs": [
    {
     "name": "stdout",
     "output_type": "stream",
     "text": [
      "Duckduckgo search: cute kittens\n",
      "Downloading results into C:\\Users\\kgene\\source\\repos\\SEPA\\fastai\\images\\Cats\n"
     ]
    },
    {
     "data": {
      "text/html": [
       "\n",
       "    <div>\n",
       "        <style>\n",
       "            /* Turns off some styling */\n",
       "            progress {\n",
       "                /* gets rid of default border in Firefox and Opera. */\n",
       "                border: none;\n",
       "                /* Needs to be in here for Safari polyfill so background images work as expected. */\n",
       "                background-size: auto;\n",
       "            }\n",
       "            .progress-bar-interrupted, .progress-bar-interrupted::-webkit-progress-bar {\n",
       "                background: #F44336;\n",
       "            }\n",
       "        </style>\n",
       "      <progress value='20' class='' max='20' style='width:300px; height:20px; vertical-align: middle;'></progress>\n",
       "      100.00% [20/20 00:04<00:00 Images downloaded]\n",
       "    </div>\n",
       "    "
      ],
      "text/plain": [
       "<IPython.core.display.HTML object>"
      ]
     },
     "metadata": {},
     "output_type": "display_data"
    },
    {
     "data": {
      "text/plain": [
       "[Path('C:/Users/kgene/source/repos/SEPA/fastai/images/Cats/001_53b21391.jpg'),\n",
       " Path('C:/Users/kgene/source/repos/SEPA/fastai/images/Cats/002_0492f916.jpg'),\n",
       " Path('C:/Users/kgene/source/repos/SEPA/fastai/images/Cats/003_2531663f.jpg'),\n",
       " Path('C:/Users/kgene/source/repos/SEPA/fastai/images/Cats/004_24b74f8e.jpg'),\n",
       " Path('C:/Users/kgene/source/repos/SEPA/fastai/images/Cats/005_6ae0d870.jpg'),\n",
       " Path('C:/Users/kgene/source/repos/SEPA/fastai/images/Cats/006_e4920c28.jpg'),\n",
       " Path('C:/Users/kgene/source/repos/SEPA/fastai/images/Cats/007_fc4f910d.jpg'),\n",
       " Path('C:/Users/kgene/source/repos/SEPA/fastai/images/Cats/008_44037f8d.jpg'),\n",
       " Path('C:/Users/kgene/source/repos/SEPA/fastai/images/Cats/009_fd1cd986.jpg'),\n",
       " Path('C:/Users/kgene/source/repos/SEPA/fastai/images/Cats/010_c142a649.jpg'),\n",
       " Path('C:/Users/kgene/source/repos/SEPA/fastai/images/Cats/011_edfee0d9.jpg'),\n",
       " Path('C:/Users/kgene/source/repos/SEPA/fastai/images/Cats/012_684188b6.jpg'),\n",
       " Path('C:/Users/kgene/source/repos/SEPA/fastai/images/Cats/013_fb13de8d.jpg'),\n",
       " Path('C:/Users/kgene/source/repos/SEPA/fastai/images/Cats/014_280150f6.jpg'),\n",
       " Path('C:/Users/kgene/source/repos/SEPA/fastai/images/Cats/015_7a45031a.jpg'),\n",
       " Path('C:/Users/kgene/source/repos/SEPA/fastai/images/Cats/016_18988fbb.jpg'),\n",
       " Path('C:/Users/kgene/source/repos/SEPA/fastai/images/Cats/017_40c4cd3f.jpg'),\n",
       " Path('C:/Users/kgene/source/repos/SEPA/fastai/images/Cats/018_064d1d79.jpg'),\n",
       " Path('C:/Users/kgene/source/repos/SEPA/fastai/images/Cats/019_e0489f81.jpg'),\n",
       " Path('C:/Users/kgene/source/repos/SEPA/fastai/images/Cats/020_e782d471.jpg')]"
      ]
     },
     "execution_count": 43,
     "metadata": {},
     "output_type": "execute_result"
    }
   ],
   "source": [
    "from jmd_imagescraper.core import * # dont't worry, it's designed to work with import *\n",
    "from pathlib import Path\n",
    "\n",
    "root = Path().cwd()/\"images\"\n",
    "\n",
    "duckduckgo_search(root, \"Cats\", \"cute kittens\", max_results=20)"
   ]
  },
  {
   "cell_type": "code",
   "execution_count": null,
   "id": "8c83d43d",
   "metadata": {},
   "outputs": [],
   "source": []
  }
 ],
 "metadata": {
  "kernelspec": {
   "display_name": "py37gpu",
   "language": "python",
   "name": "py37gpu"
  },
  "language_info": {
   "codemirror_mode": {
    "name": "ipython",
    "version": 3
   },
   "file_extension": ".py",
   "mimetype": "text/x-python",
   "name": "python",
   "nbconvert_exporter": "python",
   "pygments_lexer": "ipython3",
   "version": "3.7.10"
  }
 },
 "nbformat": 4,
 "nbformat_minor": 5
}
